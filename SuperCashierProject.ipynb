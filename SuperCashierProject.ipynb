{
 "cells": [
  {
   "cell_type": "markdown",
   "id": "d4980a01",
   "metadata": {},
   "source": [
    "# Super Cashier Test Case"
   ]
  },
  {
   "cell_type": "code",
   "execution_count": 9,
   "id": "8d5ac499",
   "metadata": {},
   "outputs": [],
   "source": [
    "import pandas as pd"
   ]
  },
  {
   "cell_type": "code",
   "execution_count": 10,
   "id": "bc1af329-6552-4fe8-904e-ec6f389f8e86",
   "metadata": {},
   "outputs": [],
   "source": [
    "class Transaction:\n",
    "    def __init__(self):\n",
    "        '''\n",
    "        berfungsi untuk menginisialisasi class Transaction\n",
    "        data_trans = dict untuk menyimpan data transaksi \n",
    "        '''\n",
    "        self.data_trans = {}\n",
    "\n",
    "  \n",
    "    def add_item(self, nama_barang, jumlah_barang, harga_barang):\n",
    "        '''\n",
    "        Fungsi untuk menambahkan nama_item, jumlah dan harga barang ke dalam atributt\n",
    "        class Transaction\n",
    "        \n",
    "        parameters:\n",
    "        nama_barang   = str     barang yang dibeli (as key)\n",
    "        jumlah_barang = int     jumlah barang yang dibeli (value)\n",
    "        harga_barang  = int     harga barang yang dibeli (value)\n",
    "          '''\n",
    "        #input data ke dalam dictionary\n",
    "        nama_barang = input('Masukkan nama barang: ')\n",
    "        \n",
    "        #input jumlah barang dengan checking validitas input user\n",
    "        while True:\n",
    "          jumlah_barang = input('Masukkan jumlah barang: ')\n",
    "          if jumlah_barang.isnumeric():\n",
    "            jumlah_barang = int(jumlah_barang)\n",
    "            break\n",
    "          else:\n",
    "            print('Jumlah barang harus berupa angka.')\n",
    "    \n",
    "        #input harga barang dengan checking validitas input user\n",
    "        while True:\n",
    "          harga_barang = input('Masukkan harga barang: ')\n",
    "          if harga_barang.isnumeric():\n",
    "            harga_barang = int(harga_barang)\n",
    "            break\n",
    "          else:\n",
    "            print('Harga barang harus berupa angka.')\n",
    "      \n",
    "        new_item = {nama_barang: [jumlah_barang, harga_barang]}\n",
    "        self.data_trans.update(new_item)\n",
    "        print(f'{nama_barang} dengan harga Rp. {harga_barang} sejumlah {jumlah_barang} buah berhasil dimasukkan keranjang belanja Anda.')\n",
    "\n",
    "\n",
    "    def update_nama_barang(self, nama_barang, nama_baru):\n",
    "        '''\n",
    "        Berfungsi untuk mengoreksi/mengubah nama barang yang telah diinput \n",
    "        {nama_barang_baru} akan menggantikan key {nama_barang} sebelumnya\n",
    "        \n",
    "        parameters:\n",
    "        nama_barang = nama barang semula\n",
    "        nama_baru   = nama barang yang telah diperbarui \n",
    "        '''\n",
    "        temp = self.data_trans[nama_barang]\n",
    "        self.data_trans.pop(nama_barang)\n",
    "        self.data_trans.update({nama_baru: temp})\n",
    "\n",
    "\n",
    "    def update_jumlah_barang(self, nama_barang, jumlah_baru):\n",
    "        '''\n",
    "        fungsi untuk memperbarui jumlah barang yang telah terinput\n",
    "        \n",
    "        parameters:\n",
    "        nama_barang   = nama barang \n",
    "        jumlah_baru   = jumlah barang yang telah diperbarui \n",
    "        \n",
    "        '''\n",
    "        self.data_trans[nama_barang][0] = jumlah_baru\n",
    "\n",
    "\n",
    "    def update_harga_barang(self, nama_barang, harga_baru):\n",
    "        '''\n",
    "        fungsi untuk memperbarui jumlah barang yang telah terinput\n",
    "       \n",
    "        parameters:\n",
    "        nama_barang   = nama barang \n",
    "        harga_baru    = harga barang yang telah diperbarui \n",
    "        \n",
    "        '''\n",
    "        self.data_trans[nama_barang][1] = harga_baru\n",
    "\n",
    "   \n",
    "    def delete_item(self):\n",
    "        '''\n",
    "        Berfungsi untuk menghapus item (nama barang, jumlah dan harga) \n",
    "        yang diinginkan dari dict data transaksi\n",
    "        '''\n",
    "        try:\n",
    "          delete_barang = input('Masukkan nama barang yang akan dihapus: ')\n",
    "          self.data_trans.pop(delete_barang)\n",
    "\n",
    "          print(f'{delete_barang} telah dihapus dari keranjang belanja.')\n",
    "          self.check_order()\n",
    "\n",
    "        except KeyError:\n",
    "          print(f'{nama_barang} tidak terdapat dalam keranjang belanja Anda.')\n",
    "\n",
    "    \n",
    "    def reset_transaction(self):\n",
    "        '''\n",
    "        Fungsi untuk mereset semua data yang ada di data transaksi\n",
    "        '''\n",
    "        self.data_trans.clear()\n",
    "\n",
    "   \n",
    "    def check_order(self):\n",
    "        '''\n",
    "        fungsi untuk mengecek data terbaru yang terecord dalam dictionary\n",
    "        \n",
    "        '''\n",
    "        if(len(self.data_trans) == 0):\n",
    "          print('Tidak ada barang di keranjang belanja Anda.')\n",
    "        else:\n",
    "          #print(self.data_trans)\n",
    "          data = pd.DataFrame(self.data_trans).T\n",
    "          data.columns = ['Jumlah Barang', 'Harga Barang']\n",
    "          print(data.to_markdown())\n",
    "\n",
    "\n",
    "    def total_price(self):\n",
    "        '''\n",
    "        Fungsi untuk menghitung total harga yang harus dibayarkan customer.\n",
    "        ''' \n",
    "\n",
    "        #menjumlahkan total seluruh transaksi\n",
    "        total_price = 0\n",
    "        for value in self.data_trans.values():\n",
    "            self.jumlah_barang = value[0]\n",
    "            self.harga_barang = value[1]\n",
    "            total_price += (self.jumlah_barang * self.harga_barang)\n",
    "\n",
    "\n",
    "        #menghitung diskon\n",
    "        if total_price > 200_000:\n",
    "          diskon = int(total_price*0.05)\n",
    "          total_price = int(total_price-diskon)\n",
    "          print(f'Anda mendapatkan diskon sebesar 5%. Total belanja yang harus Anda bayarkan adalah Rp. {total_price}.')\n",
    "          print('Terimakasih Atas Kunjungan Anda.')\n",
    "\n",
    "        elif total_price > 300_000:\n",
    "          diskon = int(total_price*0.08)\n",
    "          total_price = int(total_price-diskon)\n",
    "          print(f'Anda mendapatkan diskon sebesar 8%. Total belanja yang harus Anda bayarkan adalah Rp. {total_price}.')\n",
    "          print('Terimakasih Atas Kunjungan Anda.')\n",
    "\n",
    "        elif total_price > 500_000:\n",
    "          diskon = int(total_price*0.1)\n",
    "          total_price = int(total_price-diskon)\n",
    "          print(f'Anda mendapatkan diskon sebesar 10%. Total belanja yang harus Anda bayarkan adalah Rp. {total_price}.')\n",
    "          print('Terimakasih Atas Kunjungan Anda.')\n",
    "\n",
    "        else:\n",
    "          print(f'Total belanja Anda adalah {total_price}.')\n",
    "          print('Terimakasih Atas Kunjungan Anda.')\n",
    "\n",
    "\n",
    "\n",
    "\n",
    "\n",
    "\n",
    "\n",
    "\n"
   ]
  },
  {
   "cell_type": "code",
   "execution_count": 11,
   "id": "536e1187",
   "metadata": {},
   "outputs": [],
   "source": [
    "cust1 = Transaction()"
   ]
  },
  {
   "cell_type": "code",
   "execution_count": 13,
   "id": "06878bb3-c995-4f64-9b57-e98859cada8c",
   "metadata": {},
   "outputs": [
    {
     "name": "stdin",
     "output_type": "stream",
     "text": [
      "Masukkan nama barang:  mamam\n",
      "Masukkan jumlah barang:  2\n",
      "Masukkan harga barang:  3000\n"
     ]
    },
    {
     "name": "stdout",
     "output_type": "stream",
     "text": [
      "mamam dengan harga Rp. 3000 sejumlah 2 buah berhasil dimasukkan keranjang belanja Anda.\n"
     ]
    }
   ],
   "source": [
    "cust1.add_item('coffee', 1, 2000)"
   ]
  },
  {
   "cell_type": "code",
   "execution_count": 14,
   "id": "072b744d-e486-41d6-9f5e-342198c1bf2d",
   "metadata": {},
   "outputs": [
    {
     "name": "stdout",
     "output_type": "stream",
     "text": [
      "|        |   Jumlah Barang |   Harga Barang |\n",
      "|:-------|----------------:|---------------:|\n",
      "| coffee |               1 |           2000 |\n",
      "| mamam  |               2 |           3000 |\n"
     ]
    }
   ],
   "source": [
    "cust1.check_order()"
   ]
  },
  {
   "cell_type": "code",
   "execution_count": 15,
   "id": "1333763e-43fd-435e-af01-a098eaeb59c6",
   "metadata": {},
   "outputs": [
    {
     "name": "stdout",
     "output_type": "stream",
     "text": [
      "Total belanja Anda adalah 8000.\n",
      "Terimakasih Atas Kunjungan Anda.\n"
     ]
    }
   ],
   "source": [
    "cust1.total_price()"
   ]
  }
 ],
 "metadata": {
  "kernelspec": {
   "display_name": "Python 3 (ipykernel)",
   "language": "python",
   "name": "python3"
  },
  "language_info": {
   "codemirror_mode": {
    "name": "ipython",
    "version": 3
   },
   "file_extension": ".py",
   "mimetype": "text/x-python",
   "name": "python",
   "nbconvert_exporter": "python",
   "pygments_lexer": "ipython3",
   "version": "3.9.13"
  }
 },
 "nbformat": 4,
 "nbformat_minor": 5
}
