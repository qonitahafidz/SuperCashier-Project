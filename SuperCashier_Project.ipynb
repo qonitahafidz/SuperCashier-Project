{
  "nbformat": 4,
  "nbformat_minor": 0,
  "metadata": {
    "colab": {
      "provenance": [],
      "authorship_tag": "ABX9TyP8eDttjy6OEwnruS4ODfl6",
      "include_colab_link": true
    },
    "kernelspec": {
      "name": "python3",
      "display_name": "Python 3"
    },
    "language_info": {
      "name": "python"
    }
  },
  "cells": [
    {
      "cell_type": "markdown",
      "metadata": {
        "id": "view-in-github",
        "colab_type": "text"
      },
      "source": [
        "<a href=\"https://colab.research.google.com/github/qonitahafidz/SuperCashier-Project/blob/main/SuperCashier_Project.ipynb\" target=\"_parent\"><img src=\"https://colab.research.google.com/assets/colab-badge.svg\" alt=\"Open In Colab\"/></a>"
      ]
    },
    {
      "cell_type": "code",
      "execution_count": 3,
      "metadata": {
        "id": "OooKFq0B8jKm"
      },
      "outputs": [],
      "source": [
        "import pandas as pd\n",
        "import numpy as np\n"
      ]
    },
    {
      "cell_type": "code",
      "source": [
        "class Transaction:\n",
        "    def __init__(self):\n",
        "        '''\n",
        "        berfungsi untuk menginisialisasi class Transaction\n",
        "        data_trans = dict untuk menyimpan data transaksi \n",
        "        '''\n",
        "        self.data_trans = {}\n",
        "\n",
        "  \n",
        "    def add_item(self, nama_barang, jumlah_barang, harga_barang):\n",
        "        '''\n",
        "        Fungsi untuk menambahkan nama_item, jumlah dan harga barang ke dalam atributt\n",
        "        class Transaction\n",
        "        \n",
        "        parameters:\n",
        "        nama_barang   = str     barang yang dibeli (as key)\n",
        "        jumlah_barang = int     jumlah barang yang dibeli (value)\n",
        "        harga_barang  = int     harga barang yang dibeli (value)\n",
        "          '''\n",
        "        #input data ke dalam dictionary\n",
        "        nama_barang = input('Masukkan nama barang: ')\n",
        "        \n",
        "        #input jumlah barang dengan checking validitas input user\n",
        "        while True:\n",
        "          jumlah_barang = input('Masukkan jumlah barang: ')\n",
        "          if jumlah_barang.isnumeric():\n",
        "            jumlah_barang = int(jumlah_barang)\n",
        "            break\n",
        "          else:\n",
        "            print('Jumlah barang harus berupa angka.')\n",
        "    \n",
        "        #input harga barang dengan checking validitas input user\n",
        "        while True:\n",
        "          harga_barang = input('Masukkan harga barang: ')\n",
        "          if harga_barang.isnumeric():\n",
        "            harga_barang = int(harga_barang)\n",
        "            break\n",
        "          else:\n",
        "            print('Harga barang harus berupa angka.')\n",
        "      \n",
        "        new_item = {nama_barang: [jumlah_barang, harga_barang]}\n",
        "        self.data_trans.update(new_item)\n",
        "        print(f'{nama_barang} dengan harga Rp. {harga_barang} sejumlah {jumlah_barang} buah berhasil dimasukkan keranjang belanja Anda.')\n",
        "\n",
        "\n",
        "    def update_nama_barang(self, nama_barang, nama_baru):\n",
        "        '''\n",
        "        Berfungsi untuk mengoreksi/mengubah nama barang yang telah diinput \n",
        "        {nama_barang_baru} akan menggantikan key {nama_barang} sebelumnya\n",
        "        \n",
        "        parameters:\n",
        "        nama_barang = nama barang semula\n",
        "        nama_baru   = nama barang yang telah diperbarui \n",
        "        '''\n",
        "        temp = self.data_trans[nama_barang]\n",
        "        self.data_trans.pop(nama_barang)\n",
        "        self.data_trans.update({nama_baru: temp})\n",
        "\n",
        "\n",
        "    def update_jumlah_barang(self, nama_barang, jumlah_baru):\n",
        "        '''\n",
        "        fungsi untuk memperbarui jumlah barang yang telah terinput\n",
        "        \n",
        "        parameters:\n",
        "        nama_barang   = nama barang \n",
        "        jumlah_baru   = jumlah barang yang telah diperbarui \n",
        "        \n",
        "        '''\n",
        "        self.data_trans[nama_barang][0] = jumlah_baru\n",
        "\n",
        "\n",
        "    def update_harga_barang(self, nama_barang, harga_baru):\n",
        "        '''\n",
        "        fungsi untuk memperbarui jumlah barang yang telah terinput\n",
        "       \n",
        "        parameters:\n",
        "        nama_barang   = nama barang \n",
        "        harga_baru    = harga barang yang telah diperbarui \n",
        "        \n",
        "        '''\n",
        "        self.data_trans[nama_barang][1] = harga_baru\n",
        "\n",
        "   \n",
        "    def delete_item(self):\n",
        "        '''\n",
        "        Berfungsi untuk menghapus item (nama barang, jumlah dan harga) \n",
        "        yang diinginkan dari dict data transaksi\n",
        "        '''\n",
        "        try:\n",
        "          delete_barang = input('Masukkan nama barang yang akan dihapus: ')\n",
        "          self.data_trans.pop(delete_barang)\n",
        "\n",
        "          print(f'{delete_barang} telah dihapus dari keranjang belanja.')\n",
        "          self.check_order()\n",
        "\n",
        "        except KeyError:\n",
        "          print(f'{nama_barang} tidak terdapat dalam keranjang belanja Anda.')\n",
        "\n",
        "    \n",
        "    def reset_transaction(self):\n",
        "        '''\n",
        "        Fungsi untuk mereset semua data yang ada di data transaksi\n",
        "        '''\n",
        "        self.data_trans.clear()\n",
        "\n",
        "   \n",
        "    def check_order(self):\n",
        "        '''\n",
        "        fungsi untuk mengecek data terbaru yang terecord dalam dictionary\n",
        "        \n",
        "        '''\n",
        "        if(len(self.data_trans) == 0):\n",
        "          print('Tidak ada barang di keranjang belanja Anda.')\n",
        "        else:\n",
        "          #print(self.data_trans)\n",
        "          data = pd.DataFrame(self.data_trans).T\n",
        "          data.columns = ['Jumlah Barang', 'Harga Barang']\n",
        "          print(data.to_markdown())\n",
        "\n",
        "\n",
        "    def total_price(self):\n",
        "        '''\n",
        "        Fungsi untuk menghitung total harga yang harus dibayarkan customer.\n",
        "        ''' \n",
        "\n",
        "        #menjumlahkan total seluruh transaksi\n",
        "        total_price = 0\n",
        "        for value in self.data_trans.values():\n",
        "            self.jumlah_barang = value[0]\n",
        "            self.harga_barang = value[1]\n",
        "            total_price += (self.jumlah_barang * self.harga_barang)\n",
        "\n",
        "\n",
        "        #menghitung diskon\n",
        "        if total_price > 200_000:\n",
        "          diskon = int(total_price*0.05)\n",
        "          total_price = int(total_price-diskon)\n",
        "          print(f'Anda mendapatkan diskon sebesar 5%. Total belanja yang harus Anda bayarkan adalah Rp. {total_price}.')\n",
        "          print('Terimakasih Atas Kunjungan Anda.')\n",
        "\n",
        "        elif total_price > 300_000:\n",
        "          diskon = int(total_price*0.08)\n",
        "          total_price = int(total_price-diskon)\n",
        "          print(f'Anda mendapatkan diskon sebesar 8%. Total belanja yang harus Anda bayarkan adalah Rp. {total_price}.')\n",
        "          print('Terimakasih Atas Kunjungan Anda.')\n",
        "\n",
        "        elif total_price > 500_000:\n",
        "          diskon = int(total_price*0.1)\n",
        "          total_price = int(total_price-diskon)\n",
        "          print(f'Anda mendapatkan diskon sebesar 10%. Total belanja yang harus Anda bayarkan adalah Rp. {total_price}.')\n",
        "          print('Terimakasih Atas Kunjungan Anda.')\n",
        "\n",
        "        else:\n",
        "          print(f'Total belanja Anda adalah {total_price}.')\n",
        "          print('Terimakasih Atas Kunjungan Anda.')\n",
        "\n",
        "\n",
        "\n",
        "\n",
        "\n",
        "\n",
        "\n",
        "\n"
      ],
      "metadata": {
        "id": "gKN50K268kXW"
      },
      "execution_count": 175,
      "outputs": []
    },
    {
      "cell_type": "code",
      "source": [],
      "metadata": {
        "id": "YOFIVPVcC0FQ"
      },
      "execution_count": null,
      "outputs": []
    },
    {
      "cell_type": "code",
      "source": [],
      "metadata": {
        "id": "CERAMP44WtqW"
      },
      "execution_count": null,
      "outputs": []
    },
    {
      "cell_type": "code",
      "source": [
        "cust1 = Transaction()"
      ],
      "metadata": {
        "id": "NQt6_-z4Yn0W"
      },
      "execution_count": 169,
      "outputs": []
    },
    {
      "cell_type": "code",
      "source": [
        "cust1.add_item('Kopi', 1, 25000)"
      ],
      "metadata": {
        "colab": {
          "base_uri": "https://localhost:8080/"
        },
        "id": "MN3p9UfSYq41",
        "outputId": "dbe84fe7-ed9d-464b-8e37-cc4aa2d770eb"
      },
      "execution_count": 170,
      "outputs": [
        {
          "output_type": "stream",
          "name": "stdout",
          "text": [
            "Masukkan nama barang: mama\n",
            "Masukkan jumlah barang: 2\n",
            "Masukkan harga barang: 200000\n",
            "mama dengan harga Rp. 200000 sejumlah 2 buah berhasil dimasukkan keranjang belanja Anda.\n"
          ]
        }
      ]
    },
    {
      "cell_type": "code",
      "source": [],
      "metadata": {
        "id": "Os9zxW_fCZJC"
      },
      "execution_count": null,
      "outputs": []
    },
    {
      "cell_type": "code",
      "source": [
        "cust1.add_item('aqua', 1, 5000)"
      ],
      "metadata": {
        "colab": {
          "base_uri": "https://localhost:8080/"
        },
        "id": "YrvObcdrcd1v",
        "outputId": "28fa8890-44c4-4904-e986-4bfcf1b78fb4"
      },
      "execution_count": 171,
      "outputs": [
        {
          "output_type": "stream",
          "name": "stdout",
          "text": [
            "Masukkan nama barang: r\n",
            "Masukkan jumlah barang: 2\n",
            "Masukkan harga barang: 14000\n",
            "r dengan harga Rp. 14000 sejumlah 2 buah berhasil dimasukkan keranjang belanja Anda.\n"
          ]
        }
      ]
    },
    {
      "cell_type": "code",
      "source": [
        "cust1.update_jumlah_barang('Kopi', 9999)"
      ],
      "metadata": {
        "colab": {
          "base_uri": "https://localhost:8080/",
          "height": 294
        },
        "id": "ydC4hqmHRPbo",
        "outputId": "d168b9aa-b5ba-4e92-c7c8-0aea475741f4"
      },
      "execution_count": 172,
      "outputs": [
        {
          "output_type": "error",
          "ename": "KeyError",
          "evalue": "ignored",
          "traceback": [
            "\u001b[0;31m---------------------------------------------------------------------------\u001b[0m",
            "\u001b[0;31mKeyError\u001b[0m                                  Traceback (most recent call last)",
            "\u001b[0;32m<ipython-input-172-db6dbd305f76>\u001b[0m in \u001b[0;36m<module>\u001b[0;34m\u001b[0m\n\u001b[0;32m----> 1\u001b[0;31m \u001b[0mcust1\u001b[0m\u001b[0;34m.\u001b[0m\u001b[0mupdate_jumlah_barang\u001b[0m\u001b[0;34m(\u001b[0m\u001b[0;34m'Kopi'\u001b[0m\u001b[0;34m,\u001b[0m \u001b[0;36m9999\u001b[0m\u001b[0;34m)\u001b[0m\u001b[0;34m\u001b[0m\u001b[0;34m\u001b[0m\u001b[0m\n\u001b[0m",
            "\u001b[0;32m<ipython-input-168-33769665ec73>\u001b[0m in \u001b[0;36mupdate_jumlah_barang\u001b[0;34m(self, nama_barang, jumlah_baru)\u001b[0m\n\u001b[1;32m     67\u001b[0m \u001b[0;34m\u001b[0m\u001b[0m\n\u001b[1;32m     68\u001b[0m         '''\n\u001b[0;32m---> 69\u001b[0;31m         \u001b[0mself\u001b[0m\u001b[0;34m.\u001b[0m\u001b[0mdata_trans\u001b[0m\u001b[0;34m[\u001b[0m\u001b[0mnama_barang\u001b[0m\u001b[0;34m]\u001b[0m\u001b[0;34m[\u001b[0m\u001b[0;36m0\u001b[0m\u001b[0;34m]\u001b[0m \u001b[0;34m=\u001b[0m \u001b[0mjumlah_baru\u001b[0m\u001b[0;34m\u001b[0m\u001b[0;34m\u001b[0m\u001b[0m\n\u001b[0m\u001b[1;32m     70\u001b[0m \u001b[0;34m\u001b[0m\u001b[0m\n\u001b[1;32m     71\u001b[0m \u001b[0;34m\u001b[0m\u001b[0m\n",
            "\u001b[0;31mKeyError\u001b[0m: 'Kopi'"
          ]
        }
      ]
    },
    {
      "cell_type": "code",
      "source": [
        "cust1.reset_transaction()"
      ],
      "metadata": {
        "id": "HmI-zp7ArwpR"
      },
      "execution_count": 30,
      "outputs": []
    },
    {
      "cell_type": "code",
      "source": [
        "cust1.check_order()"
      ],
      "metadata": {
        "colab": {
          "base_uri": "https://localhost:8080/"
        },
        "id": "xSMK16AQbdfp",
        "outputId": "d1a31538-b661-4357-8aad-354d0508e092"
      },
      "execution_count": 173,
      "outputs": [
        {
          "output_type": "stream",
          "name": "stdout",
          "text": [
            "|      |   Jumlah Barang |   Harga Barang |\n",
            "|:-----|----------------:|---------------:|\n",
            "| mama |               2 |         200000 |\n",
            "| r    |               2 |          14000 |\n"
          ]
        }
      ]
    },
    {
      "cell_type": "code",
      "source": [
        "cust1.delete_item()"
      ],
      "metadata": {
        "colab": {
          "base_uri": "https://localhost:8080/"
        },
        "id": "ImpBO2BlrwHE",
        "outputId": "f093e4e4-3284-4a0d-f0c1-8095671a54d1"
      },
      "execution_count": 107,
      "outputs": [
        {
          "output_type": "stream",
          "name": "stdout",
          "text": [
            "Masukkan nama barang yang akan dihapus: jkj\n",
            "jkj telah dihapus dari keranjang belanja.\n",
            "|     |   Jumlah Barang |   Harga Barang |\n",
            "|:----|----------------:|---------------:|\n",
            "| jkl |               3 |             90 |\n"
          ]
        }
      ]
    },
    {
      "cell_type": "code",
      "source": [
        "cust1.total_price()"
      ],
      "metadata": {
        "colab": {
          "base_uri": "https://localhost:8080/"
        },
        "id": "7LWc6v0SWps6",
        "outputId": "f91ba416-c393-4cbd-c6e9-d4e493e43b2d"
      },
      "execution_count": 174,
      "outputs": [
        {
          "output_type": "stream",
          "name": "stdout",
          "text": [
            "Anda mendapatkan diskon sebesar 5%.n\\Total belanja yang harus Anda bayarkan adalah Rp. 406600.\n"
          ]
        }
      ]
    }
  ]
}