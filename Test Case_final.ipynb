{
 "cells": [
  {
   "cell_type": "markdown",
   "id": "1f3d6bc6",
   "metadata": {},
   "source": [
    "# Test Case - Super Cashier Project "
   ]
  },
  {
   "cell_type": "code",
   "execution_count": 1,
   "id": "5ce82fe1",
   "metadata": {},
   "outputs": [],
   "source": [
    "import cashier as c"
   ]
  },
  {
   "cell_type": "markdown",
   "id": "bec827f1",
   "metadata": {},
   "source": [
    "### Test Case 1 : Add Item"
   ]
  },
  {
   "cell_type": "code",
   "execution_count": 16,
   "id": "7088f09a",
   "metadata": {},
   "outputs": [
    {
     "name": "stdout",
     "output_type": "stream",
     "text": [
      "Masukkan nama barang: Ayam Goreng\n",
      "Masukkan jumlah barang: 2\n",
      "Masukkan harga barang: 20000\n",
      "Ayam Goreng dengan harga Rp. 20000 sejumlah 2 buah berhasil dimasukkan keranjang belanja Anda.\n",
      "Masukkan nama barang: Pasta Gigi\n",
      "Masukkan jumlah barang: 3\n",
      "Masukkan harga barang: 15000\n",
      "Pasta Gigi dengan harga Rp. 15000 sejumlah 3 buah berhasil dimasukkan keranjang belanja Anda.\n"
     ]
    }
   ],
   "source": [
    "cust1 = c.Transaction()\n",
    "cust1.add_item('Ayam Goreng', 2, 20000)\n",
    "cust1.add_item('Pasta Gigi', 3, 15000)"
   ]
  },
  {
   "cell_type": "markdown",
   "id": "5ac297ed",
   "metadata": {},
   "source": [
    "### Test Case 2 : Delete Item"
   ]
  },
  {
   "cell_type": "code",
   "execution_count": 22,
   "id": "55905d33",
   "metadata": {
    "scrolled": false
   },
   "outputs": [
    {
     "name": "stdout",
     "output_type": "stream",
     "text": [
      "Masukkan nama barang yang akan dihapus: Pasta Gigi\n",
      "Pasta Gigi telah dihapus dari keranjang belanja.\n",
      "|               |   Jumlah Barang |   Harga Barang |\n",
      "|:--------------|----------------:|---------------:|\n",
      "| Fried Chicken |               2 |          20000 |\n"
     ]
    }
   ],
   "source": [
    "cust1.delete_item()"
   ]
  },
  {
   "cell_type": "markdown",
   "id": "6dd20afa",
   "metadata": {},
   "source": [
    "### Test Case 3 : Reset Transaction"
   ]
  },
  {
   "cell_type": "code",
   "execution_count": 4,
   "id": "a35d99a2",
   "metadata": {
    "scrolled": true
   },
   "outputs": [
    {
     "name": "stdout",
     "output_type": "stream",
     "text": [
      "Semua item berhasil dihapus dari keranjang belanja Anda.\n"
     ]
    }
   ],
   "source": [
    "cust1.reset_transaction()"
   ]
  },
  {
   "cell_type": "markdown",
   "id": "00c434cd",
   "metadata": {},
   "source": [
    "### Test Case 4 : Count Total Price"
   ]
  },
  {
   "cell_type": "code",
   "execution_count": 7,
   "id": "bff45fff",
   "metadata": {},
   "outputs": [
    {
     "name": "stdout",
     "output_type": "stream",
     "text": [
      "Anda mendapatkan diskon sebesar 5%. Total belanja yang harus Anda bayarkan adalah Rp. 285000.\n",
      "Terimakasih Atas Kunjungan Anda.\n"
     ]
    }
   ],
   "source": [
    "cust1.total_price()"
   ]
  },
  {
   "cell_type": "markdown",
   "id": "c3f78bb3",
   "metadata": {},
   "source": [
    "### Test Case 4 : Update Item"
   ]
  },
  {
   "cell_type": "markdown",
   "id": "df047995",
   "metadata": {},
   "source": [
    "#### Update Nama Barang"
   ]
  },
  {
   "cell_type": "code",
   "execution_count": 20,
   "id": "c1d49c3d",
   "metadata": {
    "scrolled": true
   },
   "outputs": [
    {
     "name": "stdout",
     "output_type": "stream",
     "text": [
      "Masukkan nama barang: Ayam Goreng\n",
      "Masukkan jumlah barang: 2\n",
      "Masukkan harga barang: 20000\n",
      "Ayam Goreng dengan harga Rp. 20000 sejumlah 2 buah berhasil dimasukkan keranjang belanja Anda.\n",
      "Masukkan nama barang: Pasta Gigi\n",
      "Masukkan jumlah barang: 3\n",
      "Masukkan harga barang: 15000\n",
      "Pasta Gigi dengan harga Rp. 15000 sejumlah 3 buah berhasil dimasukkan keranjang belanja Anda.\n"
     ]
    }
   ],
   "source": [
    "cust1 = c.Transaction()\n",
    "cust1.add_item('Ayam Goreng', 2, 20000)\n",
    "cust1.add_item('Pasta Gigi', 3, 15000)"
   ]
  },
  {
   "cell_type": "code",
   "execution_count": 21,
   "id": "719157ff",
   "metadata": {},
   "outputs": [
    {
     "name": "stdout",
     "output_type": "stream",
     "text": [
      "Ayam Goreng berhasil diubah menjadi Fried Chicken.\n"
     ]
    }
   ],
   "source": [
    "cust1.update_nama_barang('Ayam Goreng', 'Fried Chicken')"
   ]
  },
  {
   "cell_type": "markdown",
   "id": "ee9c650f",
   "metadata": {},
   "source": [
    "#### Update Jumlah Barang"
   ]
  },
  {
   "cell_type": "code",
   "execution_count": 11,
   "id": "c5e9f620",
   "metadata": {},
   "outputs": [
    {
     "name": "stdout",
     "output_type": "stream",
     "text": [
      "Jumlah berhasil diubah menjadi 10.\n"
     ]
    }
   ],
   "source": [
    "cust1.update_jumlah_barang('Pasta Gigi', 10)"
   ]
  },
  {
   "cell_type": "markdown",
   "id": "e85e320d",
   "metadata": {},
   "source": [
    "#### Update Harga Barang"
   ]
  },
  {
   "cell_type": "code",
   "execution_count": 12,
   "id": "692bb38f",
   "metadata": {},
   "outputs": [
    {
     "name": "stdout",
     "output_type": "stream",
     "text": [
      "Harga berhasil diubah menjadi 29000.\n"
     ]
    }
   ],
   "source": [
    "cust1.update_harga_barang('Pasta Gigi', 29000)"
   ]
  },
  {
   "cell_type": "markdown",
   "id": "129a7877",
   "metadata": {},
   "source": [
    "### Test Case 5 : Check Order"
   ]
  },
  {
   "cell_type": "code",
   "execution_count": 13,
   "id": "2b3633c9",
   "metadata": {},
   "outputs": [
    {
     "name": "stdout",
     "output_type": "stream",
     "text": [
      "|               |   Jumlah Barang |   Harga Barang |\n",
      "|:--------------|----------------:|---------------:|\n",
      "| Pasta Gigi    |              10 |          29000 |\n",
      "| Fried Chicken |               2 |          20000 |\n"
     ]
    }
   ],
   "source": [
    "cust1.check_order()"
   ]
  },
  {
   "cell_type": "code",
   "execution_count": null,
   "id": "ea6f77ff",
   "metadata": {},
   "outputs": [],
   "source": []
  },
  {
   "cell_type": "code",
   "execution_count": null,
   "id": "c842e469",
   "metadata": {},
   "outputs": [],
   "source": []
  }
 ],
 "metadata": {
  "kernelspec": {
   "display_name": "Python 3 (ipykernel)",
   "language": "python",
   "name": "python3"
  },
  "language_info": {
   "codemirror_mode": {
    "name": "ipython",
    "version": 3
   },
   "file_extension": ".py",
   "mimetype": "text/x-python",
   "name": "python",
   "nbconvert_exporter": "python",
   "pygments_lexer": "ipython3",
   "version": "3.9.13"
  }
 },
 "nbformat": 4,
 "nbformat_minor": 5
}
